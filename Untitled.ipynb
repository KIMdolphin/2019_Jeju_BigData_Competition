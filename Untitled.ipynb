{
 "cells": [
  {
   "cell_type": "code",
   "execution_count": 2,
   "metadata": {},
   "outputs": [],
   "source": [
    "import csv\n",
    "import datetime\n",
    "f = open('train.csv', 'r', encoding = 'ANSI')\n",
    "distancedict = {}\n",
    "reader = csv.reader(f)\n",
    "for line in reader:\n",
    "    if int(line[9]) in list(distancedict.keys()):\n",
    "        distancedict[int(line[9])].append(int(line[13]))\n",
    "    else:\n",
    "        distancedict[int(line[9])] = []\n",
    "        distancedict[int(line[9])].append(int(line[13]))\n",
    "f.close()\n",
    "\n",
    "\n"
   ]
  },
  {
   "cell_type": "code",
   "execution_count": 3,
   "metadata": {},
   "outputs": [],
   "source": [
    "import numpy as np\n",
    "distancedictaver = {}\n",
    "for i in list(distancedict.keys()):\n",
    "    distancedict[i].remove(max(distancedict[i]))\n",
    "    listaver = sum(distancedict[i])/len(distancedict)\n",
    "    distancedictaver[i] = listaver\n",
    "    "
   ]
  },
  {
   "cell_type": "code",
   "execution_count": 4,
   "metadata": {},
   "outputs": [],
   "source": [
    "f = open('train.csv', 'r', encoding = 'ANSI')\n",
    "weekin = ['Monday', 'Tuesday', 'Wednesday', 'Thursday', 'Friday']\n",
    "distancedict = {}\n",
    "reader = csv.reader(f)\n",
    "for line in reader:\n",
    "    readerlist = []\n",
    "    datelist = list(map(int, line[1].split('-'))) \n",
    "    readerlist.append(datetime.date(datelist[0], datelist[1], datelist[2]).strftime('%A')) #1 요일\n",
    "    readerlist.append(line[8]) #2 시간대\n",
    "    readerlist.append(line[13])\n",
    "    #readerlist.append(int(line[13])/distancedictaver[int(line[9])]) #3 걸리는 시간의 가중치\n",
    "    if int(line[9]) not in list(distancedict.keys()):\n",
    "        distancedict[int(line[9])] = []\n",
    "    distancedict[int(line[9])].append(readerlist)\n",
    "f.close()"
   ]
  },
  {
   "cell_type": "code",
   "execution_count": 5,
   "metadata": {},
   "outputs": [],
   "source": [
    "f = open('test.csv', 'r', encoding = 'ANSI')\n",
    "test_distancedict = {}\n",
    "reader = csv.reader(f)\n",
    "for line in reader:\n",
    "    readerlist = []\n",
    "    datelist = list(map(int, line[1].split('-'))) \n",
    "    readerlist.append(datetime.date(datelist[0], datelist[1], datelist[2]).strftime('%A')) #1 요일\n",
    "    readerlist.append(line[8]) #2 시간대\n",
    "    if int(line[9]) not in list(test_distancedict.keys()):\n",
    "        test_distancedict[int(line[9])] = []\n",
    "    test_distancedict[int(line[9])].append(readerlist) #3\n",
    "f.close()"
   ]
  },
  {
   "cell_type": "code",
   "execution_count": 6,
   "metadata": {},
   "outputs": [],
   "source": [
    "result = []"
   ]
  },
  {
   "cell_type": "code",
   "execution_count": null,
   "metadata": {},
   "outputs": [],
   "source": [
    "len(distancedict)\n",
    "for o in (distancedict.keys()):\n",
    "    distancedict[o] = list(set(map(tuple, distancedict[o])))"
   ]
  },
  {
   "cell_type": "code",
   "execution_count": null,
   "metadata": {},
   "outputs": [],
   "source": [
    "ap=result.append\n",
    "tdk = test_distancedict.keys()\n",
    "dk = distancedict.keys()\n",
    "for l in list(tdk):\n",
    "    for m in test_distancedict[l]:\n",
    "        for j in list(dk):\n",
    "            for k in distancedict[j]:\n",
    "                if k[:2] == m :\n",
    "                    ap(distancedict[j][2])"
   ]
  },
  {
   "cell_type": "code",
   "execution_count": null,
   "metadata": {},
   "outputs": [],
   "source": [
    "print(result)"
   ]
  },
  {
   "cell_type": "code",
   "execution_count": null,
   "metadata": {},
   "outputs": [],
   "source": []
  }
 ],
 "metadata": {
  "kernelspec": {
   "display_name": "Python 3",
   "language": "python",
   "name": "python3"
  },
  "language_info": {
   "codemirror_mode": {
    "name": "ipython",
    "version": 3
   },
   "file_extension": ".py",
   "mimetype": "text/x-python",
   "name": "python",
   "nbconvert_exporter": "python",
   "pygments_lexer": "ipython3",
   "version": "3.8.0"
  }
 },
 "nbformat": 4,
 "nbformat_minor": 2
}
